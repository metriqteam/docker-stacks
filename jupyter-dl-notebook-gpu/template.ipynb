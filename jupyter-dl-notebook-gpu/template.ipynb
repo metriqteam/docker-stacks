{
 "cells": [
  {
   "cell_type": "markdown",
   "metadata": {
    "slideshow": {
     "slide_type": "notes"
    }
   },
   "source": [
    "This notebook is maintained by \n",
    "\n",
    "Basecamp task URL : https://3.basecamp.com/"
   ]
  },
  {
   "cell_type": "markdown",
   "metadata": {},
   "source": [
    "# Library import\n",
    "\n",
    "### General and system "
   ]
  },
  {
   "cell_type": "code",
   "execution_count": 1,
   "metadata": {},
   "outputs": [],
   "source": [
    "import sys\n",
    "import os"
   ]
  },
  {
   "cell_type": "markdown",
   "metadata": {},
   "source": [
    "### Third party and custom libs"
   ]
  },
  {
   "cell_type": "code",
   "execution_count": 2,
   "metadata": {},
   "outputs": [
    {
     "name": "stdout",
     "output_type": "stream",
     "text": [
      "Current cwd: /home/jovyan/work\n"
     ]
    }
   ],
   "source": [
    "cwd = os.getcwd()\n",
    "print('Current cwd: {}'.format(cwd))\n",
    "\n",
    "if '/home/jovyan' in cwd:\n",
    "    sys.path.append('/home/jovyan')\n",
    "    from executhor.executhor import ExecuThor\n",
    "else:\n",
    "    print('Executing this from Airflow, not importing ExecuThor.')"
   ]
  },
  {
   "cell_type": "markdown",
   "metadata": {},
   "source": [
    "# Example code"
   ]
  },
  {
   "cell_type": "code",
   "execution_count": 3,
   "metadata": {},
   "outputs": [
    {
     "name": "stdout",
     "output_type": "stream",
     "text": [
      "Hi there! This thing is alive.\n"
     ]
    }
   ],
   "source": [
    "print(\"Hi there! This thing is alive.\")"
   ]
  },
  {
   "cell_type": "markdown",
   "metadata": {
    "tags": [
     "nothing"
    ]
   },
   "source": [
    "### Handling parameters for Papermill execution\n",
    "\n",
    "When you use ExecuThor internal lib, your code and your files is automatically sent to a Minio bucket. All notebooks contained in the directory specified when initializing ExecuThor will be executed in an high-performance server thanks to Airflow, a workflow manager. \n",
    "\n",
    "However, this server doesn't have the same configuration as the JupyterHub server. That's why, you want to specify some parameters in your code so that the code can be executed in an other environment. For example, relative path should be avoided if you need to get your output files back. To set your tags, just open the \"cell inspector\", on the left sidebar of your JupyterHub environment, and in the field \"edit metadata\", just write your tag with this format:\n",
    "\n",
    "```\n",
    "{\n",
    "    \"tags\": [\n",
    "        \"parameters\"\n",
    "    ]\n",
    "}```"
   ]
  },
  {
   "cell_type": "code",
   "execution_count": 4,
   "metadata": {
    "tags": [
     "parameters"
    ]
   },
   "outputs": [],
   "source": [
    "# Parameter that evolve between Jupyter and Airflow\n",
    "path = './'"
   ]
  },
  {
   "cell_type": "code",
   "execution_count": 5,
   "metadata": {},
   "outputs": [],
   "source": [
    "with open(path + 'text.txt', 'w') as the_file:\n",
    "    the_file.write('Hello\\n')"
   ]
  },
  {
   "cell_type": "markdown",
   "metadata": {},
   "source": [
    "# ExecuThor\n",
    "\n",
    "ExecuThor is the custom lib allowing the execution of Jupyter notebooks on Airflow. \n",
    "\n",
    "The only thing you have to do is tag your Jupyter notebooks (more to come...) and initialize ExecuThor with the path of your working directory. Then, just call the `launch` method and all data and notebooks are sent through Minio to an Airflow instance which is going to execute the code. "
   ]
  },
  {
   "cell_type": "code",
   "execution_count": 6,
   "metadata": {},
   "outputs": [
    {
     "name": "stdout",
     "output_type": "stream",
     "text": [
      "Initialized ExecuThor with:\n",
      "Files: ['/home/jovyan/work/test.ipynb', '/home/jovyan/work/template.ipynb']\n",
      "Requirements file: None\n",
      "Initializing Minio client...\n",
      "Copying files...\n",
      "Initializing bucket with random name: 3b2f0d69-5eea-40b5-ab0a-a2715d24cf34\n",
      "Launching tasks...\n",
      "Airflow task launched for bucket 3b2f0d69-5eea-40b5-ab0a-a2715d24cf34\n"
     ]
    }
   ],
   "source": [
    "if '/home/jovyan' in cwd:\n",
    "    executhor_instance = ExecuThor(folder_path='/home/jovyan/work')\n",
    "    executhor_instance.launch()\n",
    "else:\n",
    "    print('Not launching ExecuThor instance because executing this from Airflow.')"
   ]
  },
  {
   "cell_type": "code",
   "execution_count": null,
   "metadata": {},
   "outputs": [],
   "source": []
  }
 ],
 "metadata": {
  "kernelspec": {
   "display_name": "Python 3",
   "language": "python",
   "name": "python3"
  },
  "language_info": {
   "codemirror_mode": {
    "name": "ipython",
    "version": 3
   },
   "file_extension": ".py",
   "mimetype": "text/x-python",
   "name": "python",
   "nbconvert_exporter": "python",
   "pygments_lexer": "ipython3",
   "version": "3.7.3"
  }
 },
 "nbformat": 4,
 "nbformat_minor": 2
}
